{
 "cells": [
  {
   "cell_type": "markdown",
   "id": "221c44c3-e613-44e5-a852-f5cce2dd6c0c",
   "metadata": {},
   "source": [
    "# Phylogeny-Informed MAG Assessment (PIMA)\n",
    "\n",
    "Phylogeny-informed MAG assessment (PIMA) is a automatic tool to assess the quality of giant virus MAGs. \n",
    "\n",
    "This approach was designed to overcome the limitations caused by a lack of reference genomes, which impacts the accuracy of quality assessments for giant virus MAGs. This approach requires a guide tree of giant viruses that has been rerooted in accordance with the latest taxonomic classifications and evolutionary scenarios. Then, the relative evolutionary divergence (RED) values were calculated to classify taxonomic levels for each clade (e.g., order and family)72. Within a specific clade, MAG genes were annotated with orthologous groups (OGs); then, core genes in this clade were defined as those identified in more than 50% of the genomes in the clade.\n",
    "\n",
    "Redundant genes in a MAG are defined as genes with more copies than the mode copy number (the most common number of copies) for the given genes across all MAGs in the evaluated lineage.\n",
    "\n",
    "Citation:\n",
    "\n",
    "\"Genome-resolved year-round dynamics reveal a broad range of giant virus microdiveristy\" In Prep."
   ]
  },
  {
   "cell_type": "code",
   "execution_count": 14,
   "id": "02338d3b-7759-4d5d-a8c2-cf948a36358a",
   "metadata": {},
   "outputs": [
    {
     "data": {
      "text/plain": [
       "0"
      ]
     },
     "execution_count": 14,
     "metadata": {},
     "output_type": "execute_result"
    }
   ],
   "source": [
    "# load all necessary packagesfor PIMA\n",
    "\n",
    "from ete3 import Tree\n",
    "import ete3\n",
    "from Bio import SeqIO\n",
    "import subprocess\n",
    "import os, sys\n",
    "import pandas as pd\n",
    "import numpy as np\n",
    "\n",
    "os.system(\"mkdir -p tmp\")\n",
    "os.system(\"mkdir -p output\")"
   ]
  },
  {
   "cell_type": "code",
   "execution_count": 4,
   "id": "25ededd2-782f-4139-b4e9-f64dfa92b17b",
   "metadata": {},
   "outputs": [],
   "source": [
    "# Input the phylogenetic tree and reroot it. Here, I used the same dataset (1065 MAGs + reference genomes) from our cited reference paper as the test dataset.\n",
    "# The input tree was made by a sequence of concatenated marker genes in informational module.\n",
    "treefile = \"test_input.treefile\"\n",
    "tree = Tree(f\"{treefile}\", quoted_node_names=True, format=1)\n",
    "\n",
    "# You need to reroot the tree based on the knowlege for the coming RED calculation.\n",
    "ancestor = tree.get_common_ancestor(\"165.Flamingopox.virus.FGPVKD09.proteins\",\"073.African.swine.fever.virus.proteins\")\n",
    "tree.set_outgroup(ancestor)\n",
    "# tree.write(format=1, outfile=f\"rerooted_{treefile}\")\n",
    "\n",
    "nodeNb=0\n",
    "tree.name = f\"INT_{nodeNb}\"  # Assign INT_0 to the root explicitly\n",
    "for node in tree.iter_descendants(\"preorder\"):\n",
    "        #print node.support\n",
    "        nodeNb+=1\n",
    "        #print nodeNb\n",
    "        if not node.is_leaf():\n",
    "                node.name = \"INT_%d\" % nodeNb #If I do this only I loose node support..\n",
    "                #node.add_feature(\"label\", \"INT_%d\" % nodeNb)\n",
    "                #node.add_feature(\"confidence\", \"%f\" % node.support)\n",
    "                \n",
    "    \n",
    "tree.write(format=1, outfile=f\"tmp/renamed_rerooted_{treefile}\")"
   ]
  },
  {
   "cell_type": "code",
   "execution_count": 8,
   "id": "8138d7ee-1648-4b00-95b1-33618ca49f29",
   "metadata": {},
   "outputs": [
    {
     "name": "stdout",
     "output_type": "stream",
     "text": [
      "R script ran successfully.\n",
      "\n"
     ]
    }
   ],
   "source": [
    "# Traverse all nodes to obtain the vertical information between nodes for grouping.\n",
    "\n",
    "outfile = open(\"tmp/parent_children.tsv\",\"w\")\n",
    "for node in tree.traverse(\"postorder\"):\n",
    "    outfile.write(f\"\\n{node.name}\")\n",
    "    for node2 in (tree&f\"{node.name}\").get_children():\n",
    "        outfile.write(f\"\\t{node2.name}\")\n",
    "        \n",
    "outfile.close()\n",
    "\n",
    "# Calculate the RED value\n",
    "rscript_path = \"/usr/local/bin/Rscript\"\n",
    "r_script = \"RED_script.R\"\n",
    "\n",
    "result = subprocess.run([rscript_path, r_script], capture_output=True, text=True)\n",
    "\n",
    "if result.returncode == 0:\n",
    "    print(\"R script ran successfully.\")\n",
    "    print(result.stdout)\n",
    "else:\n",
    "    print(\"Error occurred:\")\n",
    "    print(result.stderr)"
   ]
  },
  {
   "cell_type": "code",
   "execution_count": 10,
   "id": "8e727fcf-2542-406e-bb9f-68b993fcef1d",
   "metadata": {},
   "outputs": [
    {
     "name": "stdout",
     "output_type": "stream",
     "text": [
      "117\n",
      "1273\n"
     ]
    }
   ],
   "source": [
    "# This cell is for using the RED value to group genomes\n",
    "with open(\"tmp/RED.tsv\",\"r\") as infile:\n",
    "    head = infile.readline()\n",
    "    lines = infile.readlines()\n",
    "    reddict = {}\n",
    "    for line in lines:\n",
    "        tmp = line.strip().split(\"\\t\")\n",
    "        if len(tmp) > 1:\n",
    "            reddict[tmp[0]] = tmp[1] \n",
    "\n",
    "# I used a RED value of 0.65 as the cut-off, which represents the taxanomy at family level\n",
    "with open(\"tmp/parent_children.tsv\",\"r\") as infile:\n",
    "    lines = infile.readlines()\n",
    "    family = []\n",
    "    for line in lines:\n",
    "        tmp = line.strip().split(\"\\t\")\n",
    "        if len(tmp) == 3:\n",
    "            if float(reddict[tmp[0]]) < 0.65 and float(reddict[tmp[1]]) > 0.65 and float(reddict[tmp[2]]) > 0.65:\n",
    "                family.append(tmp[0])\n",
    "            elif float(reddict[tmp[0]]) < 0.65 and float(reddict[tmp[1]]) < 0.65 and float(reddict[tmp[2]]) > 0.65:\n",
    "                family.append(tmp[2])\n",
    "            elif float(reddict[tmp[0]]) < 0.65 and float(reddict[tmp[1]]) > 0.65 and float(reddict[tmp[2]]) < 0.65:\n",
    "                family.append(tmp[1])\n",
    "                    \n",
    "family = list(set(family))\n",
    "print(len(family))\n",
    "\n",
    "\n",
    "tree = Tree(f\"tmp/RED_renamed_rerooted_{treefile}\", quoted_node_names=True, format=1)\n",
    "\n",
    "outfile = open(\"tmp/family_assignation.tsv\",\"w\")\n",
    "\n",
    "i = 1\n",
    "for node in family:\n",
    "    n = 0\n",
    "    outfile.write(f\"\\n{node}\")\n",
    "    tmp = []\n",
    "    for node2 in (tree&f\"{node}\").get_leaves():\n",
    "        n += 1\n",
    "        i+=1\n",
    "        tmp.append(node2.name)\n",
    "    outfile.write(f\"\\t{n}\\t{tmp}\")\n",
    "print(i)      \n",
    "outfile.close()"
   ]
  },
  {
   "cell_type": "code",
   "execution_count": 11,
   "id": "f7e90d92-bf67-476a-ae6f-6c62a563e6b2",
   "metadata": {},
   "outputs": [
    {
     "data": {
      "text/plain": [
       "0"
      ]
     },
     "execution_count": 11,
     "metadata": {},
     "output_type": "execute_result"
    }
   ],
   "source": [
    "# Then we need to annotation the genes with OG lavels, before that we modify the id to make the gene and genomes easy to match\n",
    "path = \"test_faa/\"\n",
    "dirs = os.listdir( path )\n",
    "os.system(\"mkdir -p renamed_original_faa\")\n",
    "\n",
    "i = 1\n",
    "idrecord = open(\"tmp/genome_name_record.txt\",\"w\")\n",
    "for file in dirs:\n",
    "    if \".faa\" in file:\n",
    "        genome = f\"genome{i}\"\n",
    "        idrecord.write(f\"\\n{file}\\t{genome}\")\n",
    "        original_file = f\"{path}/{file}\"\n",
    "        corrected_file = f\"renamed_original_faa/{file}\"\n",
    "        with open(original_file) as original:\n",
    "            corrected = open(corrected_file, 'w')\n",
    "            records = SeqIO.parse(original_file, 'fasta')\n",
    "            n = 1\n",
    "            for record in records:       \n",
    "                record.id = f\"{genome}_gene{n}\"\n",
    "                n+=1\n",
    "                SeqIO.write(record, corrected, 'fasta')\n",
    "        i += 1\n",
    "    \n",
    "idrecord.close()\n",
    "os.system(\"cat renamed_original_faa/*.faa > all_protein.faa\")\n",
    "os.system(\"rm -rf renamed_original_faa\")\n"
   ]
  },
  {
   "cell_type": "code",
   "execution_count": 64,
   "id": "7073ecb0-8c97-47e0-9e6a-76743e24b6a1",
   "metadata": {},
   "outputs": [
    {
     "data": {
      "text/plain": [
       "0"
      ]
     },
     "execution_count": 64,
     "metadata": {},
     "output_type": "execute_result"
    }
   ],
   "source": [
    "# The running cost of hmmsearh could be huge, so I suggested to run this script out of this jupyter notebook\n",
    "# The hmm file of GVOG DB is availble via https://faylward.github.io/GVDB/. Thank you Frank!\n",
    "os.system(\"hmmsearch --cpu 8 --notextw -E 1e-5 --tblout GVOG.out GVOG_hmm/gvog.complete.hmm all_protein.faa > /dev/null 2>&1\")"
   ]
  },
  {
   "cell_type": "code",
   "execution_count": 2,
   "id": "8ec13dce-b658-4400-9bbe-1f5b89ffd7e9",
   "metadata": {},
   "outputs": [
    {
     "name": "stdout",
     "output_type": "stream",
     "text": [
      "Best hits for each gene have been saved to GVOG_best_hits.out\n"
     ]
    }
   ],
   "source": [
    "# Some steps to keep the best hit of each gene. This might be improved in future.\n",
    "input_file = \"tmp/GVOG.out\"\n",
    "output_file = \"tmp/GVOG_best_hits.out\"\n",
    "\n",
    "data = []\n",
    "\n",
    "# Parse the GVOG.out file\n",
    "with open(input_file, 'r') as f:\n",
    "    for line in f:\n",
    "        if not line.startswith(\"#\"):\n",
    "            # Split line into parts, keeping the description field as a single column\n",
    "            parts = line.strip().split(maxsplit=18)\n",
    "            data.append(parts)\n",
    "\n",
    "columns = [\n",
    "    \"gene\", \"target_name\", \"query_name\", \"accession\", \"e_value\", \"score\", \"bias\",\n",
    "    \"domain_e_value\", \"domain_score\", \"domain_bias\", \"exp\", \"reg\", \"clu\", \"ov\",\n",
    "    \"env\", \"dom\", \"rep\", \"inc\", \"description\"\n",
    "]\n",
    "\n",
    "data_df = pd.DataFrame(data, columns=columns)\n",
    "\n",
    "numeric_cols = [\"e_value\", \"score\", \"domain_e_value\", \"domain_score\", \"bias\", \"domain_bias\"]\n",
    "for col in numeric_cols:\n",
    "    data_df[col] = pd.to_numeric(data_df[col], errors='coerce')\n",
    "best_hits = data_df.sort_values(by=[\"gene\", \"e_value\", \"score\"], ascending=[True, True, False])\n",
    "best_hits = best_hits.drop_duplicates(subset=\"gene\", keep=\"first\")\n",
    "\n",
    "best_hits.to_csv(output_file, sep=\"\\t\", index=False)"
   ]
  },
  {
   "cell_type": "code",
   "execution_count": 15,
   "id": "7f19d28e-2ade-4a55-bd0b-5976cc25ae7f",
   "metadata": {},
   "outputs": [
    {
     "name": "stdout",
     "output_type": "stream",
     "text": [
      "7252\n",
      "1273\n"
     ]
    },
    {
     "name": "stderr",
     "output_type": "stream",
     "text": [
      "/var/folders/h_/wz31y_q548q_8dx_n56kg2hw0000gn/T/ipykernel_86160/3250747070.py:39: FutureWarning: ChainedAssignmentError: behaviour will change in pandas 3.0!\n",
      "You are setting values through chained assignment. Currently this works in certain cases, but when using Copy-on-Write (which will become the default behaviour in pandas 3.0) this will never work to update the original DataFrame or Series, because the intermediate object on which we are setting values will behave as a copy.\n",
      "A typical example is when you are setting values in a column of a DataFrame, like:\n",
      "\n",
      "df[\"col\"][row_indexer] = value\n",
      "\n",
      "Use `df.loc[row_indexer, \"col\"] = values` instead, to perform the assignment in a single step and ensure this keeps updating the original `df`.\n",
      "\n",
      "See the caveats in the documentation: https://pandas.pydata.org/pandas-docs/stable/user_guide/indexing.html#returning-a-view-versus-a-copy\n",
      "\n",
      "  df[key][origin] += 1\n"
     ]
    }
   ],
   "source": [
    "# Prepare a master table for the completeness and redundancy calculation\n",
    "\n",
    "with open(\"tmp/GVOG_best_hits.out\",\"r\") as infile:\n",
    "    head = infile.readline()\n",
    "    lines = infile.readlines()\n",
    "    gvogdict = {}\n",
    "    for line in lines:\n",
    "        tmp = line.strip().split()\n",
    "        genome = tmp[0].split(\"_\")[0]\n",
    "        for i in tmp[0].split(\"_\")[1:-1]:\n",
    "            genome += i\n",
    "        if tmp[2] not in gvogdict.keys():\n",
    "            gvogdict[tmp[2]] = [1,[genome]]\n",
    "        else:\n",
    "            gvogdict[tmp[2]][0] += 1\n",
    "            gvogdict[tmp[2]][1].append(genome)\n",
    "    \n",
    "    obslist = []\n",
    "    for key in gvogdict.keys():\n",
    "        if gvogdict[key][0] >= 3:\n",
    "           obslist.append(key)\n",
    "print(len(obslist))\n",
    "\n",
    "genomelist = []\n",
    "with open(\"tmp/genome_name_record.txt\",\"r\") as infile:\n",
    "    head = infile.readline()\n",
    "    lines = infile.readlines()\n",
    "    for line in lines:\n",
    "        tmp = line.strip().split(\"\\t\")\n",
    "        genomelist.append(tmp[1])\n",
    "        \n",
    "print(len(genomelist))\n",
    "\n",
    "zeromatrix = np.zeros((len(genomelist),len(obslist)))\n",
    "df = pd.DataFrame(zeromatrix, index = genomelist,columns = obslist)\n",
    "for key in gvogdict.keys():\n",
    "    if key in obslist:\n",
    "        for origin in gvogdict[key][1]:\n",
    "            df[key][origin] += 1\n",
    "df.to_csv(\"tmp/gvog_genome_master_table.tsv\", sep='\\t' )"
   ]
  },
  {
   "cell_type": "code",
   "execution_count": 18,
   "id": "108e353f-9354-4e84-9fc1-09dbcd85d27c",
   "metadata": {},
   "outputs": [],
   "source": [
    "# Prepare the information for final output\n",
    "namedict = {}\n",
    "with open(\"tmp/genome_name_record.txt\",\"r\") as infile:\n",
    "    head = infile.readline()\n",
    "    lines = infile.readlines()\n",
    "    for line in lines:\n",
    "        tmp = line.strip().split(\"\\t\")\n",
    "        namedict[tmp[0].replace(\"_\",\".\").replace(\".faa\",\"\")] = tmp[1]\n",
    "        \n",
    "df = pd.read_table('tmp/gvog_genome_master_table.tsv', index_col=0)\n",
    "\n",
    "with open(\"tmp/gvog_genome_master_table.tsv\",\"r\") as infile:\n",
    "    head = infile.readline()\n",
    "    GVOGlist = head.strip().split(\"\\t\")"
   ]
  },
  {
   "cell_type": "code",
   "execution_count": 21,
   "id": "217aaf50-b5a2-479b-9db2-50083f430f2e",
   "metadata": {},
   "outputs": [],
   "source": [
    "# output the clade, at RED of 0.65, information\n",
    "\n",
    "outfile = open(\"output/Information_Clades.tsv\",\"w\")\n",
    "outfile.write(\"Clade\\tNumber_Coregene\\tCoregene\")\n",
    "with open(\"tmp/family_assignation.tsv\",\"r\") as infile:\n",
    "    head = infile.readline()\n",
    "    lines = infile.readlines()\n",
    "    gvogdict = {}\n",
    "    for line in lines:\n",
    "        tmp = line.strip().split(\"\\t\")\n",
    "        if int(tmp[1]) > 2:\n",
    "            outfile.write(f\"\\n{tmp[0]}\")\n",
    "            coreset = []\n",
    "            for govg in GVOGlist:\n",
    "                i = 0\n",
    "                for name in eval(tmp[2]):\n",
    "                    if df[govg][namedict[name]] > 0:\n",
    "                        i += 1\n",
    "                # 50% as core gene set\n",
    "                if i > 0.5 * int(tmp[1]):\n",
    "                    coreset.append(govg)\n",
    "            gvogdict[tmp[0]] =coreset\n",
    "            outfile.write(f\"\\t{len(coreset)}\\t{coreset}\")\n",
    "                    \n",
    "outfile.close() "
   ]
  },
  {
   "cell_type": "code",
   "execution_count": 20,
   "id": "764b2071-4abf-465f-a51c-10d77ed9b0d0",
   "metadata": {},
   "outputs": [],
   "source": [
    "# output the quality of individual MAGs.\n",
    "outfile = open(\"output/Quality_MAGs.tsv\",\"w\")\n",
    "outfile.write(\"MAG\\ttaxa\\tcompleteness\\tcontamination\")\n",
    "with open(\"tmp/family_assignation.tsv\",\"r\") as infile:\n",
    "    head = infile.readline()\n",
    "    lines = infile.readlines()\n",
    "    for line in lines:\n",
    "        \n",
    "        tmp = line.strip().split(\"\\t\")\n",
    "        if int(tmp[1]) > 2:\n",
    "            # calculate core gene number\n",
    "            paradict = {}\n",
    "            if len(gvogdict[tmp[0]]) > 0:\n",
    "                    for gene in gvogdict[tmp[0]]:\n",
    "                        paratmp = []\n",
    "                        for name in eval(tmp[2]):\n",
    "                            if df[gene][namedict[name]] > 0:\n",
    "                                paratmp.append(df[gene][namedict[name]])\n",
    "                        counts = np.bincount(paratmp)\n",
    "                        paradict[gene] = np.argmax(counts)\n",
    "                        \n",
    "            for name in eval(tmp[2]):\n",
    "                c = 0\n",
    "                r = 0\n",
    "                if len(gvogdict[tmp[0]]) > 0:\n",
    "                    for gene in gvogdict[tmp[0]]:\n",
    "                        if df[gene][namedict[name]] > 0:\n",
    "                            c += 1\n",
    "                            if df[gene][namedict[name]] > paradict[gene]:\n",
    "                                r += 1\n",
    "                                \n",
    "                    complete = c*100/len(gvogdict[tmp[0]])\n",
    "                    contamination = r*100/len(gvogdict[tmp[0]])\n",
    "                    outfile.write(f\"\\n{name}\\t{tmp[0]}\\t{complete}\\t{contamination}\")\n",
    "                else:\n",
    "                    outfile.write(f\"\\n{name}\\t{tmp[0]}\\tNA\\tNA\")\n",
    "        else:\n",
    "            for name in eval(tmp[2]):\n",
    "                outfile.write(f\"\\n{name}\\t{tmp[0]}\\tNA\\tNA\")\n",
    "                    \n",
    "outfile.close()   "
   ]
  },
  {
   "cell_type": "code",
   "execution_count": null,
   "id": "e56e3697-6890-4ac3-a15d-63e322834661",
   "metadata": {},
   "outputs": [],
   "source": []
  }
 ],
 "metadata": {
  "kernelspec": {
   "display_name": "Python 3 (ipykernel)",
   "language": "python",
   "name": "python3"
  },
  "language_info": {
   "codemirror_mode": {
    "name": "ipython",
    "version": 3
   },
   "file_extension": ".py",
   "mimetype": "text/x-python",
   "name": "python",
   "nbconvert_exporter": "python",
   "pygments_lexer": "ipython3",
   "version": "3.9.16"
  }
 },
 "nbformat": 4,
 "nbformat_minor": 5
}
